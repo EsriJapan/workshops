{
 "cells": [
  {
   "cell_type": "markdown",
   "metadata": {},
   "source": [
    "## オーバーレイ解析を実行してみよう"
   ]
  },
  {
   "cell_type": "code",
   "execution_count": 3,
   "metadata": {},
   "outputs": [
    {
     "name": "stderr",
     "output_type": "stream",
     "text": [
      "{\"cost\": 4.72}\n"
     ]
    },
    {
     "name": "stdout",
     "output_type": "stream",
     "text": [
      "Wall time: 1min 9s\n"
     ]
    }
   ],
   "source": [
    "%%time\n",
    "#ArcGIS API for Python を使った場合\n",
    "from arcgis.gis import GIS # GIS クラスを利用\n",
    "from arcgis.features import summarize_data # summarize_data クラスを利用\n",
    "\n",
    "# ArcGIS Online へログイン\n",
    "gis=GIS(\"home\") # GIS メソッドに引数 \"home\" を指定して実行\n",
    "\n",
    "#石川県の交通事故データを取得\n",
    "traffic=gis.content.search(query=\"石川県_交通事故データ2021\",item_type=\"Feature Layer Collection\")[0]\n",
    "#石川県の 1km のメッシュを取得\n",
    "mesh=gis.content.search(query=\"石川県メッシュ\",item_type=\"Feature Layer Collection\")[0]\n",
    "\n",
    "#オーバーレイ解析:空間結合 を実行\n",
    "apimake_join=summarize_data.join_features(target_layer=mesh,    # 石川県の 1km メッシュデータ\n",
    "                                      join_layer= traffic,               # 石川県の交通事故データ\n",
    "                                      spatial_relationship=\"intersects\", # 二つのデータが重なっているとき\n",
    "                                      output_name=\"石川県メッシュ_交通事故_PythonAPI\",\n",
    "                                     join_type=\"LEFT\"                    # 結合を外部結合に\n",
    "                                     )"
   ]
  },
  {
   "cell_type": "code",
   "execution_count": 4,
   "metadata": {},
   "outputs": [
    {
     "data": {
      "application/vnd.jupyter.widget-view+json": {
       "model_id": "00547d4091c9493e8dcb14a770bf2758",
       "version_major": 2,
       "version_minor": 0
      },
      "text/plain": [
       "MapView(layout=Layout(height='400px', width='100%'))"
      ]
     },
     "metadata": {},
     "output_type": "display_data"
    },
    {
     "data": {
      "text/html": [
       "<div class=\"map-static-img-preview-97effdf7-0f61-4bb0-9f49-3f35bdfbebf9\"><img src=\"\"></img></div>"
      ],
      "text/plain": [
       "<display.HTML object>"
      ]
     },
     "metadata": {},
     "output_type": "display_data"
    },
    {
     "data": {
      "text/html": [
       "<div class=\"map-html-embed-preview-97effdf7-0f61-4bb0-9f49-3f35bdfbebf9\"></div>"
      ],
      "text/plain": [
       "<display.HTML object>"
      ]
     },
     "metadata": {},
     "output_type": "display_data"
    }
   ],
   "source": [
    "api_map=gis.map(\"日本\")\n",
    "api_map"
   ]
  },
  {
   "cell_type": "code",
   "execution_count": 5,
   "metadata": {},
   "outputs": [],
   "source": [
    "# 作成した空間結合レイヤーにレンダラーを設定しながら上のマップに描画\n",
    "api_map.add_layer(apimake_join,\n",
    "                 {\n",
    "    \"type\":\"FeatureLayer\",    \n",
    "    \"renderer\":\"ClassedColorRenderer\",# 等級色\n",
    "    \"field_name\":\"Join_Count\",#分類するフィールド名\n",
    "    \"opacity\":0.7#透過度を設定\n",
    "  })"
   ]
  },
  {
   "cell_type": "code",
   "execution_count": 6,
   "metadata": {},
   "outputs": [],
   "source": [
    "#交通事故のポイントも描画\n",
    "api_map.add_layer(traffic)"
   ]
  },
  {
   "cell_type": "code",
   "execution_count": 7,
   "metadata": {},
   "outputs": [
    {
     "name": "stdout",
     "output_type": "stream",
     "text": [
      "Wall time: 17.9 s\n"
     ]
    },
    {
     "data": {
      "text/html": [
       "<div class='gpresult'><h2>Messages</h2><div id='messages' data-messages='[\"開始時間: 2023年11月17日 15:36:51\",\"完了 (2023年11月17日 15:36:53) (経過時間: 2.57 秒)\"]' data-show='true'><div id = 'default' /></div></div>"
      ],
      "text/plain": [
       "<Result 'C:\\\\output\\\\Python\\\\Python.gdb\\\\石川県メッシュ_交通事故_ArcPy'>"
      ]
     },
     "execution_count": 7,
     "metadata": {},
     "output_type": "execute_result"
    }
   ],
   "source": [
    "%%time\n",
    "# ArcPy を使った場合\n",
    "import arcpy\n",
    "\n",
    "#石川県の交通事故データの URL を取得\n",
    "traffic_url = r\"https://services3.arcgis.com/qcPpjnUOIagfSFbp/arcgis/rest/services/af18b8/FeatureServer/0\"\n",
    "#石川県の交通事故データを File GeoDatabase に格納\n",
    "traffics_lyr=arcpy.conversion.ExportFeatures(traffic_url,arcpy.env.workspace+\"\\石川県_交通事故2021\")\n",
    "\n",
    "#石川県の 1km のメッシュの URL を取得\n",
    "mesh_url = r\"https://services3.arcgis.com/qcPpjnUOIagfSFbp/arcgis/rest/services/a1a1db/FeatureServer/0\"\n",
    "#石川県の 1km のメッシュを File GeoDatabase に格納\n",
    "mesh_lyr=arcpy.conversion.ExportFeatures(mesh_url,arcpy.env.workspace+\"\\石川県1kmメッシュ\")\n",
    "\n",
    "#オーバーレイ解析:空間結合 を実行\n",
    "arcpy.analysis.SpatialJoin(\n",
    "    target_features=mesh_lyr,# 石川県の 1km メッシュデータ\n",
    "    join_features=traffics_lyr,# 石川県の交通事故データ\n",
    "    out_feature_class=arcpy.env.workspace+\"\\石川県メッシュ_交通事故_ArcPy\",\n",
    "    join_operation=\"JOIN_ONE_TO_ONE\",#1 対 1 で解析を実行\n",
    "    join_type=\"KEEP_ALL\",# すべての値を保持\n",
    "    match_option=\"INTERSECT\"#二つのデータが重なっている \n",
    ")"
   ]
  },
  {
   "cell_type": "code",
   "execution_count": 8,
   "metadata": {},
   "outputs": [],
   "source": [
    "# プロジェクト内で作成したマップオブジェクト上での表示を変更\n",
    "\n",
    "# プロジェクト ファイルのオブジェクト取得\n",
    "aprx = arcpy.mp.ArcGISProject(\"CURRENT\")\n",
    "# マップのオブジェクト取得\n",
    "maps = aprx.listMaps()[0]\n",
    "# レイヤーのオブジェクト一覧を取得\n",
    "lyrs =maps.listLayers()\n",
    "# レイヤーの一覧から 石川県メッシュ_交通事故_ArcPy を探してレンダラーを適用\n",
    "for lyr in lyrs:\n",
    "    if lyr.name == \"石川県メッシュ_交通事故_ArcPy\":\n",
    "        sym = lyr.symbology\n",
    "        sym.updateRenderer(\"GraduatedColorsRenderer\") # 等級色\n",
    "        sym.renderer.classificationField = \"Join_Count\"  #分類するフィールド名\n",
    "        sym.renderer.classificationMethod = \"Quantile\" # 等比間隔\n",
    "        sym.renderer.breakCount = 5 # クラス\n",
    "        lyr.symbology = sym"
   ]
  }
 ],
 "metadata": {
  "kernelspec": {
   "display_name": "ArcGISPro",
   "language": "Python",
   "name": "python3"
  },
  "language_info": {
   "file_extension": ".py",
   "name": "python",
   "version": "3"
  }
 },
 "nbformat": 4,
 "nbformat_minor": 2
}

{
 "cells": [
  {
   "cell_type": "markdown",
   "metadata": {},
   "source": [
    "## ArcGIS Online にアイテムをアップロードする\n"
   ]
  },
  {
   "cell_type": "code",
   "execution_count": 1,
   "metadata": {
    "scrolled": true
   },
   "outputs": [
    {
     "name": "stdout",
     "output_type": "stream",
     "text": [
      "Wall time: 2min 10s\n"
     ]
    },
    {
     "data": {
      "text/html": [
       "<div class='gpresult'><h2>Messages</h2><div id='messages' data-messages='[\"開始時間: 2023年11月17日 13:03:46\",\"完了  (2023年11月17日 13:05:44) (経過時間: 1 分 57 秒)\"]' data-show='true'><div id = 'default' /></div></div>"
      ],
      "text/plain": [
       "<Result ''>"
      ]
     },
     "execution_count": 1,
     "metadata": {},
     "output_type": "execute_result"
    }
   ],
   "source": [
    "%%time\n",
    "#arcpy の場合\n",
    "import arcpy\n",
    "directly=r\"C:\\output\"\n",
    "\n",
    "#プロジェクトファイルのオブジェクト取得\n",
    "aprx = arcpy.mp.ArcGISProject(\"CURRENT\")\n",
    "#マップとレイヤーを取得\n",
    "maps = aprx.listMaps()[0]\n",
    "lyrs = maps.listLayers()\n",
    "#作成するサービス定義ドラフトファイル、サービス定義ファイルのファイル名を設定\n",
    "sddraft_output = directly+r\"\\upload.sddraft\"\n",
    "sd_output =  directly+r\"\\upload.sd\"\n",
    "# サービス定義ドラフトの作成\n",
    "sharing_draft = maps.getWebLayerSharingDraft(\"HOSTING_SERVER\",\"FEATURE\",\"石川県メッシュ_交通事故_ArcPy\",lyrs)\n",
    "sharing_draft.exportToSDDraft(sddraft_output)\n",
    "# サービス定義ファイルの作成（サービスのステージング ツールの使用）\n",
    "arcpy.StageService_server(sddraft_output, sd_output)\n",
    "# ArcGIS Online にアップロード（サービス定義のアップロード ツールの使用）\n",
    "arcpy.UploadServiceDefinition_server(sd_output, \"HOSTING_SERVER\")"
   ]
  },
  {
   "cell_type": "code",
   "execution_count": 2,
   "metadata": {},
   "outputs": [
    {
     "name": "stdout",
     "output_type": "stream",
     "text": [
      "Wall time: 2min 1s\n"
     ]
    },
    {
     "data": {
      "text/html": [
       "<div class=\"item_container\" style=\"height: auto; overflow: hidden; border: 1px solid #cfcfcf; border-radius: 2px; background: #f6fafa; line-height: 1.21429em; padding: 10px;\">\n",
       "                    <div class=\"item_left\" style=\"width: 210px; float: left;\">\n",
       "                       <a href='https://naotodev.maps.arcgis.com//home/item.html?id=996b010dd1f64bb58e1a0fb524899388' target='_blank'>\n",
       "                        <img src='http://static.arcgis.com/images/desktopapp.png' class=\"itemThumbnail\">\n",
       "                       </a>\n",
       "                    </div>\n",
       "\n",
       "                    <div class=\"item_right\"     style=\"float: none; width: auto; overflow: hidden;\">\n",
       "                        <a href='https://naotodev.maps.arcgis.com//home/item.html?id=996b010dd1f64bb58e1a0fb524899388' target='_blank'><b>石川県_交通事故_PythonAPI</b>\n",
       "                        </a>\n",
       "                        <br/><img src='https://naotodev.maps.arcgis.com//home/js/jsapi/esri/css/images/item_type_icons/featureshosted16.png' style=\"vertical-align:middle;\" width=16 height=16>Feature Layer Collection by ejsato_dev\n",
       "                        <br/>Last Modified: 11月 17, 2023\n",
       "                        <br/>0 comments, 0 views\n",
       "                    </div>\n",
       "                </div>\n",
       "                "
      ],
      "text/plain": [
       "<Item title:\"石川県_交通事故_PythonAPI\" type:Feature Layer Collection owner:ejsato_dev>"
      ]
     },
     "execution_count": 2,
     "metadata": {},
     "output_type": "execute_result"
    }
   ],
   "source": [
    "%%time\n",
    "#ArcGIS API for Python を使った場合\n",
    "from arcgis.gis import GIS\n",
    "import pandas as pd\n",
    "# ArcGIS Online へログイン\n",
    "gis=GIS(\"home\")\n",
    "# Pandas DataFrame 形式として取得\n",
    "traffics=pd.DataFrame.spatial.from_featureclass(r\"C:\\\\output\\\\Python\\\\Python.gdb\\\\石川県メッシュ_交通事故_ArcPy\")\n",
    "# Fature Layer として公開\n",
    "traffics.spatial.to_featurelayer(\"石川県_交通事故_PythonAPI\")"
   ]
  }
 ],
 "metadata": {
  "kernelspec": {
   "display_name": "ArcGISPro",
   "language": "Python",
   "name": "python3"
  },
  "language_info": {
   "file_extension": ".py",
   "name": "python",
   "version": "3"
  }
 },
 "nbformat": 4,
 "nbformat_minor": 2
}

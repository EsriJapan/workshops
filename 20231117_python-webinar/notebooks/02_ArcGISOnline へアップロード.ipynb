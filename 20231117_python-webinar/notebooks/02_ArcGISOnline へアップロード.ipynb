{
 "cells": [
  {
   "cell_type": "markdown",
   "metadata": {},
   "source": [
    "## ArcGIS Online にアイテムをアップロードする\n"
   ]
  },
  {
   "cell_type": "code",
   "execution_count": 1,
   "metadata": {
    "scrolled": true
   },
   "outputs": [
    {
     "name": "stdout",
     "output_type": "stream",
     "text": [
      "Wall time: 2min 10s\n"
     ]
    },
    {
     "data": {
      "text/html": [
       "<div class='gpresult'><h2>Messages</h2><div id='messages' data-messages='[\"開始時間: 2023年11月17日 13:03:46\",\"完了  (2023年11月17日 13:05:44) (経過時間: 1 分 57 秒)\"]' data-show='true'><div id = 'default' /></div></div>"
      ],
      "text/plain": [
       "<Result ''>"
      ]
     },
     "execution_count": 1,
     "metadata": {},
     "output_type": "execute_result"
    }
   ],
   "source": [
    "%%time\n",
    "#arcpy の場合\n",
    "import arcpy\n",
    "directly=r\"C:\\output\"\n",
    "\n",
    "#プロジェクトファイルのオブジェクト取得\n",
    "aprx = arcpy.mp.ArcGISProject(\"CURRENT\")\n",
    "#マップとレイヤーを取得\n",
    "maps = aprx.listMaps()[0]\n",
    "lyrs = maps.listLayers()\n",
    "#作成するサービス定義ドラフトファイル、サービス定義ファイルのファイル名を設定\n",
    "sddraft_output = directly+r\"\\upload.sddraft\"\n",
    "sd_output =  directly+r\"\\upload.sd\"\n",
    "# サービス定義ドラフトの作成\n",
    "sharing_draft = maps.getWebLayerSharingDraft(\"HOSTING_SERVER\",\"FEATURE\",\"石川県メッシュ_交通事故_ArcPy\",lyrs)\n",
    "sharing_draft.exportToSDDraft(sddraft_output)\n",
    "# サービス定義ファイルの作成（サービスのステージング ツールの使用）\n",
    "arcpy.StageService_server(sddraft_output, sd_output)\n",
    "# ArcGIS Online にアップロード（サービス定義のアップロード ツールの使用）\n",
    "arcpy.UploadServiceDefinition_server(sd_output, \"HOSTING_SERVER\")"
   ]
  },
  {
   "cell_type": "code",
   "execution_count": 1,
   "metadata": {},
   "outputs": [
    {
     "name": "stdout",
     "output_type": "stream",
     "text": [
      "Wall time: 0 ns\n"
     ]
    }
   ],
   "source": [
    "%%time\n",
    "#ArcGIS API for Python を使った場合\n",
    "from arcgis.gis import GIS\n",
    "import pandas as pd\n",
    "# ArcGIS Online へログイン\n",
    "gis=GIS(\"home\")\n",
    "# Pandas DataFrame 形式として取得\n",
    "traffics=pd.DataFrame.spatial.from_featureclass(r\"C:\\\\output\\\\Python\\\\Python.gdb\\\\石川県メッシュ_交通事故_ArcPy\")\n",
    "# Fature Layer として公開\n",
    "traffics.spatial.to_featurelayer(\"石川県_交通事故_PythonAPI\")"
   ]
  },
  {
   "cell_type": "code",
   "execution_count": null,
   "metadata": {},
   "outputs": [],
   "source": []
  }
 ],
 "metadata": {
  "kernelspec": {
   "display_name": "ArcGISPro",
   "language": "Python",
   "name": "python3"
  },
  "language_info": {
   "file_extension": ".py",
   "name": "python",
   "version": "3"
  }
 },
 "nbformat": 4,
 "nbformat_minor": 2
}

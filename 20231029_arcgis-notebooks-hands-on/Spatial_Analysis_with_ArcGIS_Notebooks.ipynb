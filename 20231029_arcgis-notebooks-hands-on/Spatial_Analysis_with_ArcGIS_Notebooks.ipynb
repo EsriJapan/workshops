{
 "cells": [
  {
   "cell_type": "markdown",
   "metadata": {},
   "source": [
    "# ArcGIS API for Python 体験 〜 ArcGIS Notebooks を使用した解析の実行 〜"
   ]
  },
  {
   "cell_type": "markdown",
   "metadata": {
    "heading_collapsed": true
   },
   "source": [
    "## 概要\n",
    "\n",
    "ハンズオン後半では ArcGIS Notebooks を使用した GIS 解析の実行を体験します。\n",
    "GIS で使⽤するための Python プログラミングを学習する際には、まず⼿動でのワークフローを⾒てから、Python コードを使⽤してどのように完了するかを確認すると便利です。このハンズオンでは ArcGIS Online でコンテンツを⾒つけ、そのコンテンツを Web マップに追加し、そのコンテンツで空間解析を実⾏するというワークフローに沿って実行します。ステップ4 までのワークフローをご覧いただいた後、ArcGIS API for Python や ArcGIS Notebooks を使ったワークフローの再現をステップ5 から体験していただきます。\n",
    "\n",
    "目次\n",
    "* ArcGIS Online でマップを作成\n",
    "* 市区町村ごとにポイントを集約 ～ArcGIS Online～\n",
    "* 六角形のビンでポイントを集約 ～ArcGIS Online～\n",
    "* ArcGIS Notebooks を使用した WebGIS ワークフローの作成\n",
    "* 市区町村ごとにポイントを集約 ～ArcGIS Notebooks～\n",
    "* 六角形のビンでポイントを集約 ～ArcGIS Notebooks～\n",
    "* まとめ\n",
    "* 参考情報"
   ]
  },
  {
   "cell_type": "markdown",
   "metadata": {},
   "source": [
    "## ステップ 1：ArcGIS Online でマップを作成 <a class=\"anchor\" id=\"create-map-agol\"></a>"
   ]
  },
  {
   "cell_type": "markdown",
   "metadata": {},
   "source": [
    "最初に、ArcGIS Online でワークフローを試してみます。空のマップに ArcGIS Online のデータを追加します。"
   ]
  },
  {
   "cell_type": "markdown",
   "metadata": {},
   "source": [
    "1. リボンで [マップ] をクリックします。\n",
    "\n",
    "空のマップが開きます。次に、マップにコンテンツを追加します。自分のフォルダや組織、ArcGIS Living Atlas や ArcGIS Online からコンテンツを追加することができます。"
   ]
  },
  {
   "cell_type": "markdown",
   "metadata": {},
   "source": [
    "2. メニューから [追加] > [レイヤーの参照] をクリックします。\n",
    "\n",
    "<img src=\"./image/13.png\" width=\"600px\" />"
   ]
  },
  {
   "cell_type": "markdown",
   "metadata": {},
   "source": [
    "3. [マイ コンテンツ] をクリックして、ArcGIS Online を選択し、「全国市区町村界」と検索し、検索結果に表示される [全国市区町村界データ2022](https://www.arcgis.com/home/item.html?id=537b4be40b0049aeb2dd7e622c9c41be) レイヤーを追加ボタンでマップに追加します。\n",
    "\n",
    "\n",
    "<img src=\"./image/14.png\" width=\"300px\" />\n"
   ]
  },
  {
   "cell_type": "markdown",
   "metadata": {},
   "source": [
    "4. 次に、「交通事故 2022」と検索し、検索結果に表示される [交通事故箇所（2022）](https://www.arcgis.com/home/item.html?id=cbe23c70ee164bb082a0bdf97f1ed45e) レイヤーを追加ボタンでマップに追加します。\n",
    "\n",
    "<img src=\"./image/15.png\" width=\"300px\" />\n",
    "\n",
    "交通事故箇所 (2022) レイヤーはあらかじめ表示設定範囲が設定されているため、必要に応じてマップに表示されるよう表示設定を変更します。\n",
    "\n",
    "<img src=\"./image/16.png\" width=\"300px\" />"
   ]
  },
  {
   "cell_type": "markdown",
   "metadata": {},
   "source": [
    "5. レイヤー メニューをクリックします。\n",
    "コンテンツ ウィンドウには、マップ内のすべてのレイヤーが⼀覧で表⽰されます。 \n",
    "マップに追加した全国市区町村界と交通事故の 2 つのレイヤーがあります。交通事故箇所のレイヤーは 2022年の全国の交通事故を表しています。\n",
    "\n",
    "<img src=\"./image/17.png\" width=\"300px\" />"
   ]
  },
  {
   "cell_type": "markdown",
   "metadata": {},
   "source": [
    "## ステップ 2：市区町村ごとにポイントを集約 ～ArcGIS Online～ <a class=\"anchor\" id=\"aggregate-points-agol\"></a>"
   ]
  },
  {
   "cell_type": "markdown",
   "metadata": {},
   "source": [
    "ステップ 1 で作成した地図データは 2022 年の交通事故を⽰しています。現在のシンボルでは、これらの交通事故に識別可能なパターンがありません。\n",
    "空間的な分布を理解する1つの⽅法として市区町村ごとにデータを集約する方法があります。\n",
    "このままでは日本全国のデータが表示されており、データ量が多いためまずは千葉県のデータのみを表示します。"
   ]
  },
  {
   "cell_type": "markdown",
   "metadata": {},
   "source": [
    "1. 交通事故箇所（2022）レイヤーを選択した状態で画面右側のメニューから [フィルター] をクリックします。\n",
    "\n",
    "<img src=\"./image/18.png\" width=\"300px\" />"
   ]
  },
  {
   "cell_type": "markdown",
   "metadata": {},
   "source": [
    "2. [式の追加] をクリックし、「都道府県ID」フィールドの値が「千葉」と等しくなるよう条件を入力し、[保存] をクリックします。\n",
    "\n",
    "<img src=\"./image/19.png\" width=\"300px\" />\n",
    "\n",
    "マップを千葉県周辺に移動すると、千葉県の交通事故のデータのみにフィルタリングされていることが確認できます。"
   ]
  },
  {
   "cell_type": "markdown",
   "metadata": {},
   "source": [
    "3. 右側のメニューから [分析] ボタンをクリックします。\n",
    "\n",
    "<img src=\"./image/20.png\" width=\"300px\" />"
   ]
  },
  {
   "cell_type": "markdown",
   "metadata": {},
   "source": [
    "4. [ツール] ＞ [ポイントの集約] を選択します。\n",
    "\n",
    "<img src=\"./image/21.png\" width=\"300px\" />"
   ]
  },
  {
   "cell_type": "markdown",
   "metadata": {},
   "source": [
    "5. ポイントの集約ツールでは次の操作を行います。\n",
    "    * [入力ポイント フィーチャ] に、交通事故箇所（2022）を選択します。\n",
    "    * [集計エリア] の [エリア タイプ] に [ポリゴン レイヤー] が選択されている状態で、全国市区町村界データ2022を選択し、[ポイントを含まないエリアを維持] のチェックを外す\n",
    "    * [結果レイヤー] の [出力名] に ポイントの集約 と⼊⼒し、レイヤー名が⼀意となるように、ご自身のイニシャル等を後ろに追加します。\n",
    "\n",
    "今回は、[統計の計算] パラメーターは使⽤していません。これは、選択したポリゴンレイヤー内のフィールドの統計情報を計算できるようにするオプションのパラメーターです。\n",
    "\n",
    "Note：ツールを実行する前に [推定クレジット] をクリックするとこの実行にかかるクレジットを確認することができます。\n",
    "\n",
    "<img src=\"./image/22.png\" width=\"300px\" />"
   ]
  },
  {
   "cell_type": "markdown",
   "metadata": {},
   "source": [
    "6. レイヤー一覧で 交通事故箇所や市区町村界レイヤーを非表示にするとツールの結果が見やすくなります。\n",
    "集約されたレイヤーは、等級シンボルで⽰されています。市区町村界内で発⽣した交通事故が多いほど、その区画内のポイントが⼤きくなります。\n",
    "\n",
    "<img src=\"./image/24.png\" width=\"900px\" />"
   ]
  },
  {
   "cell_type": "markdown",
   "metadata": {
    "heading_collapsed": true
   },
   "source": [
    "## ステップ 3：六角形のビンでポイントを集約 ～ArcGIS Online～<a class=\"anchor\" id=\"aggregate-points-hexagon-agol\"></a>"
   ]
  },
  {
   "cell_type": "markdown",
   "metadata": {
    "hidden": true
   },
   "source": [
    "このステップでは、同じツールを実⾏しますが、市区町村ごとに集約するのではなく、1km の六角形ごとに集約します。六角形のビンを使用することでより均⼀な⽅法でデータを集計することができます。"
   ]
  },
  {
   "cell_type": "markdown",
   "metadata": {
    "hidden": true
   },
   "source": [
    "1. [分析] ＞ [履歴] ＞ ポイントの集約ツールの [・・・] ＞ [ツールを開く] をクリックします。一度実行したツールを再度実行することができます。\n",
    "\n",
    "<img src=\"./image/25.png\" width=\"300px\" />"
   ]
  },
  {
   "cell_type": "markdown",
   "metadata": {
    "hidden": true
   },
   "source": [
    "2. [集計エリア] の [エリア タイプ] で [六角形のビン] を選択し、[ビン サイズ] で 1 を、[ビン サイズの単位] で キロメートル を選択します。\n",
    "\n",
    "<img src=\"./image/26.png\" width=\"300px\" />"
   ]
  },
  {
   "cell_type": "markdown",
   "metadata": {
    "hidden": true
   },
   "source": [
    "3. 結果レイヤーの出力名に「ポイントの集約_六角形」と⼊⼒し、レイヤー名が⼀意となるように、ご自身のイニシャル等を後ろに追加します。"
   ]
  },
  {
   "cell_type": "markdown",
   "metadata": {},
   "source": [
    "4. 推定クレジットを確認後、[実⾏] をクリックします。完了すると、レイヤーがマップに追加されます。\n",
    "およそ 28 クレジット使用します。"
   ]
  },
  {
   "cell_type": "markdown",
   "metadata": {},
   "source": [
    "5. レイヤー一覧で他のレイヤーを非表示にするとツールの結果が見やすくなります。色が濃くなっている箇所ほど交通事故が発⽣していることがわかります。\n",
    "\n",
    "<img src=\"./image/27.png\" width=\"900px\" />"
   ]
  },
  {
   "cell_type": "markdown",
   "metadata": {},
   "source": [
    "最後に、Web マップを保存します。\n",
    "\n",
    "6. 左側のメニューから [保存と開く] ＞ [名前を付けて保存]を選択します。\n",
    "\n",
    "<img src=\"./image/28.png\" width=\"500px\" />"
   ]
  },
  {
   "cell_type": "markdown",
   "metadata": {},
   "source": [
    "7.\t[マップの保存]ウィンドウで、タイトルに「千葉県交通事故マップ」、タグに、「交通事故」と⼊⼒し、[保存] をクリックします。 \n",
    "\n",
    "Web マップとレイヤーが ArcGIS Online の コンテンツ フォルダに保存されます。\n"
   ]
  },
  {
   "cell_type": "markdown",
   "metadata": {
    "heading_collapsed": true
   },
   "source": [
    "## ステップ 4：ArcGIS Notebooks を使用した WebGIS ワークフローの作成 <a class=\"anchor\" id=\"arcgis-notebooks\"></a>"
   ]
  },
  {
   "cell_type": "markdown",
   "metadata": {
    "hidden": true
   },
   "source": [
    "これまでの手順では ArcGIS Online 上で、2 つの異なる方法でデータの集約を実行しました。\n",
    "ここからは、これまでのワークフローを ArcGIS API for Python を使⽤して ArcGIS Notebooks で再現します。\n",
    "\n",
    "まず、空のノートブックを作成し、分析に必要なデータを追加します。"
   ]
  },
  {
   "cell_type": "markdown",
   "metadata": {
    "hidden": true
   },
   "source": [
    "1. メニューから [ノートブック] を選択します。\n",
    "\n",
    "ArcGIS Notebooks で新しくノートブックが作成されます。"
   ]
  },
  {
   "cell_type": "markdown",
   "metadata": {
    "hidden": true
   },
   "source": [
    "2. [新しいノートブック] をクリックしドロップダウンリストから [Standard] を選択します。"
   ]
  },
  {
   "cell_type": "markdown",
   "metadata": {
    "hidden": true
   },
   "source": [
    "コードを実⾏する前に、ノートブックに名前を付けて保存します。\n",
    "\n",
    "3.\tリボン上で、[保存] をクリックし、[名前を付けて保存] を選択します。"
   ]
  },
  {
   "cell_type": "markdown",
   "metadata": {},
   "source": [
    "4.\tタイトルに「ポイントの集約ノートブック」と⼊⼒します。名前の後ろにご自身のイニシャルや名前等を付けてください。タグには、「交通事故」と⼊⼒し、[ノートブックの保存] をクリックします。 "
   ]
  },
  {
   "cell_type": "markdown",
   "metadata": {},
   "source": [
    "5.\tノートブックの下部にあるコード セル（Now you are ready to start! の下）をクリックして、そのセルをマークダウン セルに変更します。\n",
    "\n",
    "<img src=\"./image/29.png\" width=\"600px\" />"
   ]
  },
  {
   "cell_type": "markdown",
   "metadata": {},
   "source": [
    "6.\t新しいマークダウン セルで、以下を⼊⼒または貼り付け、Shift+Enter キーを押すか、リボンの Run ボタンをクリックしてセルを実⾏します。"
   ]
  },
  {
   "cell_type": "code",
   "execution_count": null,
   "metadata": {},
   "outputs": [],
   "source": [
    "## ArcGIS Notebooks を使用したポイントの集約\n",
    "このノートブックでは市区町村ごとや、六角形のビンでポイントの集約をします。"
   ]
  },
  {
   "cell_type": "markdown",
   "metadata": {},
   "source": [
    "次に GIS モジュールを呼び出し、ArcGIS Online の組織に接続します。このセルは、ノートブックを使⽤するたびに最初に実⾏する必要があります\n",
    "\n",
    "7.\t最初のコード セルをクリックしてアクティブにし、セルを実⾏します。"
   ]
  },
  {
   "cell_type": "code",
   "execution_count": null,
   "metadata": {},
   "outputs": [],
   "source": [
    "from arcgis.gis import GIS\n",
    "gis = GIS(\"home\")"
   ]
  },
  {
   "cell_type": "markdown",
   "metadata": {},
   "source": [
    "コード セルが正常に実⾏されると、セルの左側の括弧内に数字が表⽰され、In [1] と表⽰されます。\n",
    "次に、交通事故のデータを検索し、ノートブックに追加します。"
   ]
  },
  {
   "cell_type": "markdown",
   "metadata": {},
   "source": [
    "8. ノートブックの最後のセルをクリックし、リボン上で、[追加] をクリックします。"
   ]
  },
  {
   "cell_type": "markdown",
   "metadata": {},
   "source": [
    "9. [マイ コンテンツ] をクリックし、ArcGIS Online を選択し「交通事故 2022」と⼊⼒して、Enter キーで検索し、[交通事故箇所（2022）](https://www.arcgis.com/home/item.html?id=cbe23c70ee164bb082a0bdf97f1ed45e) のアイテム [+] ボタンでノートブックに追加します。\n",
    "\n",
    "<img src=\"./image/10.png\" width=\"300px\" />"
   ]
  },
  {
   "cell_type": "code",
   "execution_count": null,
   "metadata": {},
   "outputs": [],
   "source": [
    "# Item Added From Toolbar\n",
    "# Title: 交通事故箇所（2022） | Type: Feature Service | Owner: Esri_JP_Content\n",
    "item = gis.content.get(\"cbe23c70ee164bb082a0bdf97f1ed45e\")\n",
    "item"
   ]
  },
  {
   "cell_type": "markdown",
   "metadata": {},
   "source": [
    "追加をクリックすると、ArcGIS API for Python を使⽤したコンテンツを取得する上記のコードが ノートブックのコード セルに追加されます。"
   ]
  },
  {
   "cell_type": "markdown",
   "metadata": {},
   "source": [
    "10. セルを実行します。"
   ]
  },
  {
   "cell_type": "markdown",
   "metadata": {},
   "source": [
    "交通事故のデータを千葉県のデータのみにフィルタリングします。\n",
    "\n",
    "11. 新しいコード セルに下記のコードを入力し、実行します。\n",
    "\n",
    "下記では交通事故箇所レイヤーから千葉県のみのデータにフィルタリングしています。\n",
    "ArcGIS Online 上でも実行したように都道府県コードが 44（千葉県）のフィーチャを抽出しています。\n",
    "\n",
    "Note： セルを実⾏するたびに、新しいセルがその下に追加されます。セルを⼿動で追加するには、リボン上の追加 ボタンをクリックして、アクティブなセルの下にセルを挿⼊します。"
   ]
  },
  {
   "cell_type": "code",
   "execution_count": null,
   "metadata": {},
   "outputs": [],
   "source": [
    "# 千葉県のデータのみにフィルタリング\n",
    "chiba = item.layers[0].query(\"都道府県コード=44\").sdf\n",
    "chiba"
   ]
  },
  {
   "cell_type": "markdown",
   "metadata": {},
   "source": [
    "上記のセルを実行するとデータフレーム形式で表示されます。データがどのような情報を持っているのか確認することも可能です。\n",
    "\n",
    "Note:「都道府県コード」は元データで定義されており「44」は千葉県のデータを示します。データの定義の詳細は[警察庁オーブンデータ](https://www.npa.go.jp/publications/statistics/koutsuu/opendata/2022/opendata_2022.html)をご参照ください。\n",
    "\n",
    "次に、千葉県のポイントデータをフィーチャ レイヤーとして保存します。\n",
    "\n",
    "12.  コード セルに下記のコードを入力し、実行します。新しく作成するフィーチャ レイヤー の名前を「千葉県交通事故データ」とし、後ろにご自身のイニシャルや名前等を追加します。"
   ]
  },
  {
   "cell_type": "code",
   "execution_count": null,
   "metadata": {},
   "outputs": [],
   "source": [
    "# フィーチャレイヤーとして保存\n",
    "traffic = chiba.spatial.to_featurelayer(\"千葉県交通事故データ_名前\")\n",
    "traffic"
   ]
  },
  {
   "cell_type": "markdown",
   "metadata": {},
   "source": [
    "<img src=\"./image/30.png\" width=\"700px\" />\n",
    "\n",
    "アイテムが作成され、アイテムへのアクティブなリンクが⽣成されます。\n",
    "\n",
    "次に全国市区町村界データを追加します。"
   ]
  },
  {
   "cell_type": "markdown",
   "metadata": {},
   "source": [
    "13. 手順9と同様に、「全国市区町村界」と検索し、[全国市区町村界データ2022](https://www.arcgis.com/home/item.html?id=537b4be40b0049aeb2dd7e622c9c41be) レイヤーを [＋] ボタンでノートブックに追加します。"
   ]
  },
  {
   "cell_type": "markdown",
   "metadata": {},
   "source": [
    "14. 変数名を block_groups に変更し、セルを実⾏します。"
   ]
  },
  {
   "cell_type": "code",
   "execution_count": null,
   "metadata": {},
   "outputs": [],
   "source": [
    "# Item Added From Toolbar\n",
    "# Title: 全国市区町村界データ2022 | Type: Feature Service | Owner: Esri_JP_Content\n",
    "block_groups = gis.content.get(\"537b4be40b0049aeb2dd7e622c9c41be\")\n",
    "block_groups"
   ]
  },
  {
   "cell_type": "markdown",
   "metadata": {},
   "source": [
    "<img src=\"./image/31.png\" width=\"700px\" />"
   ]
  },
  {
   "cell_type": "markdown",
   "metadata": {},
   "source": [
    "次にマップを作成します。\n",
    "\n",
    "15. 新しいのコード セルで、traffic_map という名前の変数を定義し、次のように千葉県を 中⼼としたマップを設定します。"
   ]
  },
  {
   "cell_type": "code",
   "execution_count": null,
   "metadata": {},
   "outputs": [],
   "source": [
    "traffic_map= gis.map(\"千葉県\")"
   ]
  },
  {
   "cell_type": "markdown",
   "metadata": {},
   "source": [
    "これにより、千葉県をを中心としたマップが定義されますが、変数が呼び出されるまではノートブックにマップは表示されません。\n",
    "\n",
    "16. 次の⾏で、traffic_map 変数を呼び出して、セルを実⾏します。"
   ]
  },
  {
   "cell_type": "markdown",
   "metadata": {},
   "source": [
    "<img src=\"./image/32.png\" width=\"700px\" />\n",
    "\n",
    "このコード セルは、ノートブックでマップを描画しています。\n",
    "\n",
    "次に、traffic と block_groups を呼び出して、マップにデータを追加します。"
   ]
  },
  {
   "cell_type": "markdown",
   "metadata": {},
   "source": [
    "17. 新しいコードセルで、以下のようにblock_groups 変数を呼び出し、市区町村界データを追加します。"
   ]
  },
  {
   "cell_type": "code",
   "execution_count": null,
   "metadata": {},
   "outputs": [],
   "source": [
    "traffic_map.add_layer(block_groups)"
   ]
  },
  {
   "cell_type": "markdown",
   "metadata": {},
   "source": [
    "18. 同様に、traffic 変数を呼び出し、交通事故データを追加します。"
   ]
  },
  {
   "cell_type": "code",
   "execution_count": null,
   "metadata": {},
   "outputs": [],
   "source": [
    "traffic_map.add_layer(traffic)"
   ]
  },
  {
   "cell_type": "markdown",
   "metadata": {},
   "source": [
    "これにより、市区町村界と交通事故のレイヤーがマップに追加され、ArcGIS Online で作成したマップ同じような形となりました。"
   ]
  },
  {
   "cell_type": "markdown",
   "metadata": {},
   "source": [
    "19. リボンで [保存] をクリックし、[保存] を選択します。"
   ]
  },
  {
   "cell_type": "markdown",
   "metadata": {},
   "source": [
    "※ 参考：ステップ 4 のコードのまとめ"
   ]
  },
  {
   "cell_type": "code",
   "execution_count": null,
   "metadata": {},
   "outputs": [],
   "source": [
    "# 8.\n",
    "from arcgis.gis import GIS\n",
    "gis = GIS(\"home\")\n",
    "# 11.\n",
    "# Item Added From Toolbar\n",
    "# Title: 交通事故箇所（2022） | Type: Feature Service | Owner: Esri_JP_Content\n",
    "item = gis.content.get(\"cbe23c70ee164bb082a0bdf97f1ed45e\")\n",
    "item\n",
    "# 12.\n",
    "# 千葉県のデータのみにフィルタリング\n",
    "chiba = item.layers[0].query(\"都道府県コード=44\").sdf\n",
    "chiba\n",
    "# 13.\n",
    "# フィーチャレイヤーとして保存\n",
    "traffic = chiba.spatial.to_featurelayer(\"千葉県交通事故データ_名前\")\n",
    "traffic\n",
    "# 14.\n",
    "# Item Added From Toolbar\n",
    "# Title: 全国市区町村界データ2022 | Type: Feature Service | Owner: Esri_JP_Content\n",
    "block_groups = gis.content.get(\"537b4be40b0049aeb2dd7e622c9c41be\")\n",
    "block_groups\n",
    "# 15. 16.\n",
    "traffic_map= gis.map('千葉県')\n",
    "traffic_map\n",
    "# 17. 18.\n",
    "traffic_map.add_layer(block_groups)\n",
    "traffic_map.add_layer(traffic)"
   ]
  },
  {
   "cell_type": "markdown",
   "metadata": {
    "heading_collapsed": true
   },
   "source": [
    "## ステップ 5：市区町村ごとにポイントを集約 ～ArcGIS Notebooks～  <a class=\"anchor\" id=\"aggregate-points-notebooks\"></a>"
   ]
  },
  {
   "cell_type": "markdown",
   "metadata": {},
   "source": [
    "このステップでは ArcGIS Notebooks でツールの実⾏をします。ArcGIS Online で実行した、ポイントの集約ツールで分析を行います。\n",
    "\n",
    "ArcGIS API for Python を使⽤して、ツールのパラメーターを定義していきます。"
   ]
  },
  {
   "cell_type": "markdown",
   "metadata": {},
   "source": [
    "1. リボンで、[分析] をクリックします。\n",
    "\n",
    "2. 解析ツール ウィンドウで、[データの集約] を展開し、ポイントの集約の [＋] ボタンをクリックし、ノートブックにコードスニペットを挿入します。\n",
    "\n",
    "<img src=\"./image/33.png\" width=\"300px\" />\n",
    "\n",
    "ArcGIS API for Python から features モジュールをインポートし、aggregate_points() 関数を呼び出す新しいコード ブロックがノートブックに追加されます。\n",
    "\n",
    "コードを実⾏する前に、関数シグネチャを確認して、aggregate_features 関数に必要なパラメーターを確認することができます。各パラメーターは、関数が期待する通りに正確に⼊⼒する必要があり、正しく入力されていない場合はエラーが発⽣します。\n",
    "\n",
    "3. 関数シグネチャを呼び出すには、() を ? に置き換えてセルを実⾏します。\n",
    "\n",
    "<img src=\"./image/34.png\" width=\"700px\" />\n",
    "\n",
    "\n",
    "次に、解析を実⾏するための適切な⼊⼒パラメーターを関数に⼊⼒します。関数シグネチャから、point_layer と polygon_layer を定義する必要があることがわかります。\n",
    "\n",
    "また、今回はオプションの output_name も設定し、さらに、データのない箇所が結果レイヤーから削除されるように、keep_boundaries_with_no_points = False を設定します。"
   ]
  },
  {
   "cell_type": "markdown",
   "metadata": {},
   "source": [
    "4. 実行する関数の変数名 collisions_by_block_group 変数に追加し、以下のように必要なパラメーターを追加します。output_name には、レイヤー名が組織内で⼀意になるように、ご自身のイニシャルや名前等を追加します。"
   ]
  },
  {
   "cell_type": "code",
   "execution_count": null,
   "metadata": {},
   "outputs": [],
   "source": [
    "from arcgis import features\n",
    "collisions_by_block_group = features.summarize_data.aggregate_points(point_layer = traffic,\n",
    "                                                                     polygon_layer = block_groups,\n",
    "                                                                     output_name = \"ポイントの集約_市区町村_name\",\n",
    "                                                                     keep_boundaries_with_no_points = False)"
   ]
  },
  {
   "cell_type": "markdown",
   "metadata": {},
   "source": [
    "5. 関数のシグネチャを閉じて、セルを実⾏します。\n",
    "\n",
    "処理の実⾏には数分かかる場合があります。処理中のセルでは、カッコの中にアスタリスクが⼊っています（ In[*] と表⽰される）。今回は、collisions_by_block_group という名前の集約レイヤーを作成しています。"
   ]
  },
  {
   "cell_type": "markdown",
   "metadata": {},
   "source": [
    "6. 実行が完了したら新しいセルに、collisions_by_block_group と⼊⼒してセルを実⾏します。これにより、結果として作成されたアイテムのプレビューが⽣成されます。\n",
    "\n",
    "<img src=\"./image/35.png\" width=\"700px\" />\n",
    "\n",
    "次に解析結果のレイヤーをマップに追加します。"
   ]
  },
  {
   "cell_type": "markdown",
   "metadata": {},
   "source": [
    "7. traffic_map_1 という名前の別のマップを作成し、次のように map 変数を呼び出して新しいマップを描画します。"
   ]
  },
  {
   "cell_type": "code",
   "execution_count": null,
   "metadata": {},
   "outputs": [],
   "source": [
    "traffic_map_1 = gis.map(\"千葉県\")\n",
    "traffic_map_1"
   ]
  },
  {
   "cell_type": "markdown",
   "metadata": {},
   "source": [
    "8. 次のようにマップに collisions_by_block_group を追加します。"
   ]
  },
  {
   "cell_type": "code",
   "execution_count": null,
   "metadata": {},
   "outputs": [],
   "source": [
    "traffic_map_1.add_layer(collisions_by_block_group)"
   ]
  },
  {
   "cell_type": "markdown",
   "metadata": {},
   "source": [
    "<img src=\"./image/36.png\" width=\"800px\" />\n",
    "\n",
    "これで、ArcGIS Online と同様に、市区町村界ごとに交通事故を集約したマップを作成できました。"
   ]
  },
  {
   "cell_type": "markdown",
   "metadata": {},
   "source": [
    "※ 参考：ステップ 5 のコードのまとめ"
   ]
  },
  {
   "cell_type": "code",
   "execution_count": null,
   "metadata": {},
   "outputs": [],
   "source": [
    "# 4. 6.\n",
    "from arcgis import features\n",
    "collisions_by_block_group = features.summarize_data.aggregate_points(point_layer = traffic,\n",
    "                                                                     polygon_layer = block_groups,\n",
    "                                                                     output_name = \"ポイントの集約_市区町村_name\",\n",
    "                                                                     keep_boundaries_with_no_points = False)\n",
    "collisions_by_block_group\n",
    "# 7.\n",
    "traffic_map_1 = gis.map(\"千葉県\")\n",
    "traffic_map_1\n",
    "# 8.\n",
    "traffic_map_1.add_layer(collisions_by_block_group)"
   ]
  },
  {
   "cell_type": "markdown",
   "metadata": {
    "heading_collapsed": true
   },
   "source": [
    "## ステップ 6：六角形のビンでポイントを集約 ～ArcGIS Notebooks～ <a class=\"anchor\" id=\"aggregate-points-hexagon-notebooks\"></a>"
   ]
  },
  {
   "cell_type": "markdown",
   "metadata": {
    "hidden": true
   },
   "source": [
    "六角形のビンで集約する処理も同様に、API を使⽤して解析を実行することが可能です。\n",
    "まず、テッセレーションの⽣成 ツールを使⽤して六角形のビンとなるレイヤーを生成します。\n",
    "次に、六角形のビンをフィーチャとして使⽤し、ポイントを集約します。\n",
    "1. リボンで [分析] をクリックします。[データの管理] を展開し、[テッセレーションの⽣成] の [+] ボタンをクリックし、ノートブックにコードスニペットを挿入します。\n",
    "\n",
    "<img src=\"./image/37.png\" width=\"300px\" />\n",
    "\n",
    "これにより、ArcGIS API for Python から features モジュールをインポートし、generate_tessellation() を呼び出す⽅法を⽰す新しいコード ブロックがノートブックに追加されます。前のステップで aggregate_points() で⾏ったように、関数のシグネチャを表⽰することも可能です。次に、パラメーターを⼊⼒して実⾏できるようにします。"
   ]
  },
  {
   "cell_type": "markdown",
   "metadata": {},
   "source": [
    "2. 結果を保持するための変数 hexbins を作成し、以下のように、テッセレーションの範囲、ビン サイズ、ビン サイズの単位、ビン タイプ、結果レイヤー名、集約するポリゴンレイヤー、境界レイヤーを定義するための パラメーターをコード セルに追加します。output_name 引数には、後ろにご自身のイニシャルや名前等を追加して、組織内で⼀意のレイヤー名にします。"
   ]
  },
  {
   "cell_type": "code",
   "execution_count": null,
   "metadata": {},
   "outputs": [],
   "source": [
    "from arcgis import features\n",
    "hexbins = features.manage_data.generate_tessellation(extent_layer=collisions_by_block_group,\n",
    "                                                     bin_size=1,\n",
    "                                                     bin_size_unit=\"SquareKilometers\",\n",
    "                                                     bin_type=\"HEXAGON\",\n",
    "                                                     output_name=\"Chiba_Hexbins_名前\")"
   ]
  },
  {
   "cell_type": "markdown",
   "metadata": {},
   "source": [
    "3. セルを実⾏します。"
   ]
  },
  {
   "cell_type": "markdown",
   "metadata": {},
   "source": [
    "4. 次のセルでは、hexbins 変数を呼び出してセルを実⾏します。\n",
    "これにより、テッセレーションの⽣成結果のプレビューが表示されます。最後に、hexbins を使⽤してポイントを集約します。"
   ]
  },
  {
   "cell_type": "markdown",
   "metadata": {},
   "source": [
    "5. 解析ツール ウィンドウで、[データの集約] を展開します。[ポイントの集約] の [+] ボタンをクリックし、ノートブックにコードスニペットを挿入します。\n",
    "これにより、ArcGIS API for Python から features モジュールをノートブックにインポートする新しいコード ブロックが追加され、aggregate_points() を呼び出す⽅法が⽰されます。今回は、⼊⼒ポイント レイヤーには traffic フィーチャを選択します。集約に使⽤するポリゴンには上記で作成した hexbins を使用します。"
   ]
  },
  {
   "cell_type": "markdown",
   "metadata": {},
   "source": [
    "6. 変数 collisions_by_hexbin を作成し、必要なパラメーターを以下のように⼊⼒します。出⼒名には「ポイントの集約_六角形」と入力し、後ろに⾃分のイニシャルや名前等を追加し、組織内でレイヤー名が⼀意になるようにします。"
   ]
  },
  {
   "cell_type": "code",
   "execution_count": null,
   "metadata": {},
   "outputs": [],
   "source": [
    "from arcgis import features\n",
    "collisions_by_hexbin = features.summarize_data.aggregate_points(point_layer = traffic,\n",
    "                                                                polygon_layer = hexbins,\n",
    "                                                                output_name = \"ポイントの集約_六角形_name\",\n",
    "                                                                keep_boundaries_with_no_points = False)"
   ]
  },
  {
   "cell_type": "markdown",
   "metadata": {},
   "source": [
    "7. セルを実⾏します。"
   ]
  },
  {
   "cell_type": "markdown",
   "metadata": {},
   "source": [
    "8. 処理が完了したら、新しいセルを作成し、collisions_by_hexbin と⼊⼒して、セルを実⾏します。これにより、解析結果のプレビューが表示されます。\n",
    "\n",
    "次にマップに追加して、結果を可視化します。"
   ]
  },
  {
   "cell_type": "markdown",
   "metadata": {},
   "source": [
    "9. 新しいコード セルに traffic_map_2 という名前の別のマップを作成し、実行します。"
   ]
  },
  {
   "cell_type": "code",
   "execution_count": null,
   "metadata": {},
   "outputs": [],
   "source": [
    "traffic_map_2 = gis.map(\"千葉県\")\n",
    "traffic_map_2"
   ]
  },
  {
   "cell_type": "markdown",
   "metadata": {},
   "source": [
    "10. collisions_by_hexbin をマップに追加します。"
   ]
  },
  {
   "cell_type": "code",
   "execution_count": null,
   "metadata": {},
   "outputs": [],
   "source": [
    "traffic_map_2.add_layer(collisions_by_hexbin)"
   ]
  },
  {
   "cell_type": "markdown",
   "metadata": {},
   "source": [
    "<img src=\"./image/38.png\" width=\"800px\" />\n",
    "\n",
    "マップには、六角形で集約された結果が表⽰されます。"
   ]
  },
  {
   "cell_type": "markdown",
   "metadata": {},
   "source": [
    "11. リボンで [保存] をクリックし、[保存] を選択します。\n",
    "ノートブックが保存されました。保存することによってコードを再実⾏や、ノートブックの修正、解析の拡張や組織への共有などをすることが可能です。"
   ]
  },
  {
   "cell_type": "markdown",
   "metadata": {},
   "source": [
    "※ 参考：ステップ 6 のコードのまとめ"
   ]
  },
  {
   "cell_type": "code",
   "execution_count": null,
   "metadata": {},
   "outputs": [],
   "source": [
    "# 2. 4.\n",
    "from arcgis import features\n",
    "hexbins = features.manage_data.generate_tessellation(extent_layer=collisions_by_block_group,\n",
    "                                                     bin_size=1,\n",
    "                                                     bin_size_unit=\"SquareKilometers\",\n",
    "                                                     bin_type=\"HEXAGON\",\n",
    "                                                     output_name=\"Chiba_Hexbins_名前\")\n",
    "hexbins\n",
    "# 9.\n",
    "traffic_map_2 = gis.map(\"千葉県\")\n",
    "traffic_map_2\n",
    "# 10.\n",
    "traffic_map_2.add_layer(collisions_by_hexbin)"
   ]
  },
  {
   "cell_type": "markdown",
   "metadata": {
    "heading_collapsed": true
   },
   "source": [
    "## まとめ <a class=\"anchor\" id=\"summary\"></a>"
   ]
  },
  {
   "cell_type": "markdown",
   "metadata": {
    "hidden": true
   },
   "source": [
    "ハンズオン後半では、⼀般的な Web GIS のワークフローを ArcGIS Notebooks と ArcGIS API for Python を使⽤して実行する⽅法を学びました。\n",
    "ArcGIS Online で実⾏できる空間解析を、ArcGIS Notebooks でも API を通じて実行することができます。"
   ]
  }
 ],
 "metadata": {
  "esriNotebookRuntime": {
   "notebookRuntimeName": "ArcGIS Notebook Python 3 Advanced",
   "notebookRuntimeVersion": "4.0"
  },
  "kernelspec": {
   "display_name": "Python 3",
   "language": "python",
   "name": "python3"
  },
  "language_info": {
   "codemirror_mode": {
    "name": "ipython",
    "version": 3
   },
   "file_extension": ".py",
   "mimetype": "text/x-python",
   "name": "python",
   "nbconvert_exporter": "python",
   "pygments_lexer": "ipython3",
   "version": "3.9.7"
  }
 },
 "nbformat": 4,
 "nbformat_minor": 2
}
